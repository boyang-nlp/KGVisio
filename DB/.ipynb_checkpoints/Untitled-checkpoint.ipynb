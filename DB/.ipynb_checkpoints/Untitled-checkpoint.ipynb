{
 "cells": [
  {
   "cell_type": "code",
   "execution_count": 31,
   "metadata": {
    "collapsed": false
   },
   "outputs": [
    {
     "name": "stdout",
     "output_type": "stream",
     "text": [
      "The autoreload extension is already loaded. To reload it, use:\n",
      "  %reload_ext autoreload\n"
     ]
    }
   ],
   "source": [
    "%load_ext autoreload\n",
    "%autoreload 2"
   ]
  },
  {
   "cell_type": "code",
   "execution_count": 32,
   "metadata": {
    "collapsed": true
   },
   "outputs": [],
   "source": [
    "import loader"
   ]
  },
  {
   "cell_type": "code",
   "execution_count": 37,
   "metadata": {
    "collapsed": false
   },
   "outputs": [],
   "source": [
    "entity_set = loader.collect_entity('../data/baikedata/info-triple_rel.txt', '../data/baikedata/info-triple_att.txt','../data/baikedata/id2title.csv')"
   ]
  },
  {
   "cell_type": "code",
   "execution_count": 38,
   "metadata": {
    "collapsed": false
   },
   "outputs": [
    {
     "name": "stdout",
     "output_type": "stream",
     "text": [
      "\n"
     ]
    }
   ],
   "source": [
    "entities = loader.bind_attr(entity_set, '../data/baikedata/info-triple_att.txt','../data/baikedata/id2title.csv')"
   ]
  },
  {
   "cell_type": "code",
   "execution_count": 40,
   "metadata": {
    "collapsed": false
   },
   "outputs": [
    {
     "name": "stdout",
     "output_type": "stream",
     "text": [
      "{'身高': '174cm', '中文名': '刘德华', '血型': 'AB型', '出生日期': '1961年9月27日', 'from': 'hyper_link', 'title': '', '别名': '华哥', 'name': '刘德华', '全球粉丝会': '华仔天地', '外文名': 'Lau Tak Wah', 'uid': '刘德华/114923', '体重': '63kg'}\n",
      "{'uid': 'text34/刘德华 99演唱会', 'title': '', 'name': '刘德华 99演唱会', 'from': 'text'}\n",
      "{'uid': 'text1/刘德华', 'title': '', 'name': '刘德华', 'from': 'text'}\n"
     ]
    }
   ],
   "source": [
    "for entity in entities:\n",
    "    if '刘德华' in entity['uid']:\n",
    "        print(requests.get('http://baike.baidu.com/item/'+entity_uid))"
   ]
  },
  {
   "cell_type": "code",
   "execution_count": 87,
   "metadata": {
    "collapsed": false
   },
   "outputs": [
    {
     "name": "stdout",
     "output_type": "stream",
     "text": [
      "Write entities to db...\n",
      "\n",
      "\n"
     ]
    }
   ],
   "source": [
    "loader.write_entities(entities)"
   ]
  },
  {
   "cell_type": "code",
   "execution_count": 88,
   "metadata": {
    "collapsed": false
   },
   "outputs": [
    {
     "name": "stdout",
     "output_type": "stream",
     "text": [
      "\n"
     ]
    }
   ],
   "source": [
    "loader.connect_entities('../data/baikedata/info-triple_rel.txt')"
   ]
  },
  {
   "cell_type": "code",
   "execution_count": null,
   "metadata": {
    "collapsed": true
   },
   "outputs": [],
   "source": []
  }
 ],
 "metadata": {
  "anaconda-cloud": {},
  "kernelspec": {
   "display_name": "Python [conda root]",
   "language": "python",
   "name": "conda-root-py"
  },
  "language_info": {
   "codemirror_mode": {
    "name": "ipython",
    "version": 3
   },
   "file_extension": ".py",
   "mimetype": "text/x-python",
   "name": "python",
   "nbconvert_exporter": "python",
   "pygments_lexer": "ipython3",
   "version": "3.5.2"
  },
  "widgets": {
   "state": {
    "0598dd9ca34b46e69d7d1a527b5bfbc4": {
     "views": [
      {
       "cell_index": 3
      }
     ]
    }
   },
   "version": "1.2.0"
  }
 },
 "nbformat": 4,
 "nbformat_minor": 1
}
