{
 "cells": [
  {
   "cell_type": "code",
   "execution_count": 1,
   "metadata": {
    "collapsed": true
   },
   "outputs": [],
   "source": [
    "from py2neo import authenticate,Graph"
   ]
  },
  {
   "cell_type": "code",
   "execution_count": 2,
   "metadata": {
    "collapsed": false
   },
   "outputs": [],
   "source": [
    "authenticate(\"localhost:7474\", \"neo4j\", \"admin\")\n",
    "graph = Graph(\"http://localhost:7474/db/data/\")"
   ]
  },
  {
   "cell_type": "code",
   "execution_count": 22,
   "metadata": {
    "collapsed": true
   },
   "outputs": [],
   "source": [
    "from tqdm import tqdm_notebook"
   ]
  },
  {
   "cell_type": "code",
   "execution_count": 32,
   "metadata": {
    "collapsed": true
   },
   "outputs": [],
   "source": [
    "def get_rel_attr_freq():\n",
    "    nodes = graph.data('MATCH (n) RETURN n')\n",
    "    freq = {}\n",
    "    num = 0\n",
    "    nodes = [node for node in nodes]\n",
    "    for node in tqdm_notebook(nodes):\n",
    "        num += 1\n",
    "        props = dict(node)\n",
    "        for prop, value in props.items():\n",
    "            if not prop in freq.keys():\n",
    "                freq[prop] = 0\n",
    "            freq[prop] += 1\n",
    "        rels = graph.match(node)\n",
    "        print(node)\n",
    "        rels = set([rel.type() for rel in rels])\n",
    "        for rel in rels:\n",
    "            if not rel in freq.keys():\n",
    "                freq[rel] = 0\n",
    "            freq[rel] += 1\n",
    "    for key in freq.keys():\n",
    "        freq[key] /= value\n",
    "    return freq"
   ]
  },
  {
   "cell_type": "code",
   "execution_count": 33,
   "metadata": {
    "collapsed": false
   },
   "outputs": [
    {
     "name": "stdout",
     "output_type": "stream",
     "text": [
      "{'n': (b3e6ada {from:\"text\",name:\"湖南汨罗\",title:\"\",uid:\"text11829/湖南汨罗\"})}\n",
      "\n"
     ]
    },
    {
     "ename": "TypeError",
     "evalue": "Properties of type Node are not supported",
     "output_type": "error",
     "traceback": [
      "\u001b[0;31m---------------------------------------------------------------------------\u001b[0m",
      "\u001b[0;31mTypeError\u001b[0m                                 Traceback (most recent call last)",
      "\u001b[0;32m<ipython-input-33-ea912f3744af>\u001b[0m in \u001b[0;36m<module>\u001b[0;34m()\u001b[0m\n\u001b[0;32m----> 1\u001b[0;31m \u001b[0mget_rel_attr_freq\u001b[0m\u001b[1;33m(\u001b[0m\u001b[1;33m)\u001b[0m\u001b[1;33m\u001b[0m\u001b[0m\n\u001b[0m",
      "\u001b[0;32m<ipython-input-32-6751e0e5eeac>\u001b[0m in \u001b[0;36mget_rel_attr_freq\u001b[0;34m()\u001b[0m\n\u001b[1;32m     13\u001b[0m         \u001b[0mrels\u001b[0m \u001b[1;33m=\u001b[0m \u001b[0mgraph\u001b[0m\u001b[1;33m.\u001b[0m\u001b[0mmatch\u001b[0m\u001b[1;33m(\u001b[0m\u001b[0mnode\u001b[0m\u001b[1;33m)\u001b[0m\u001b[1;33m\u001b[0m\u001b[0m\n\u001b[1;32m     14\u001b[0m         \u001b[0mprint\u001b[0m\u001b[1;33m(\u001b[0m\u001b[0mnode\u001b[0m\u001b[1;33m)\u001b[0m\u001b[1;33m\u001b[0m\u001b[0m\n\u001b[0;32m---> 15\u001b[0;31m         \u001b[0mrels\u001b[0m \u001b[1;33m=\u001b[0m \u001b[0mset\u001b[0m\u001b[1;33m(\u001b[0m\u001b[1;33m[\u001b[0m\u001b[0mrel\u001b[0m\u001b[1;33m.\u001b[0m\u001b[0mtype\u001b[0m\u001b[1;33m(\u001b[0m\u001b[1;33m)\u001b[0m \u001b[1;32mfor\u001b[0m \u001b[0mrel\u001b[0m \u001b[1;32min\u001b[0m \u001b[0mrels\u001b[0m\u001b[1;33m]\u001b[0m\u001b[1;33m)\u001b[0m\u001b[1;33m\u001b[0m\u001b[0m\n\u001b[0m\u001b[1;32m     16\u001b[0m         \u001b[1;32mfor\u001b[0m \u001b[0mrel\u001b[0m \u001b[1;32min\u001b[0m \u001b[0mrels\u001b[0m\u001b[1;33m:\u001b[0m\u001b[1;33m\u001b[0m\u001b[0m\n\u001b[1;32m     17\u001b[0m             \u001b[1;32mif\u001b[0m \u001b[1;32mnot\u001b[0m \u001b[0mrel\u001b[0m \u001b[1;32min\u001b[0m \u001b[0mfreq\u001b[0m\u001b[1;33m.\u001b[0m\u001b[0mkeys\u001b[0m\u001b[1;33m(\u001b[0m\u001b[1;33m)\u001b[0m\u001b[1;33m:\u001b[0m\u001b[1;33m\u001b[0m\u001b[0m\n",
      "\u001b[0;32m<ipython-input-32-6751e0e5eeac>\u001b[0m in \u001b[0;36m<listcomp>\u001b[0;34m(.0)\u001b[0m\n\u001b[1;32m     13\u001b[0m         \u001b[0mrels\u001b[0m \u001b[1;33m=\u001b[0m \u001b[0mgraph\u001b[0m\u001b[1;33m.\u001b[0m\u001b[0mmatch\u001b[0m\u001b[1;33m(\u001b[0m\u001b[0mnode\u001b[0m\u001b[1;33m)\u001b[0m\u001b[1;33m\u001b[0m\u001b[0m\n\u001b[1;32m     14\u001b[0m         \u001b[0mprint\u001b[0m\u001b[1;33m(\u001b[0m\u001b[0mnode\u001b[0m\u001b[1;33m)\u001b[0m\u001b[1;33m\u001b[0m\u001b[0m\n\u001b[0;32m---> 15\u001b[0;31m         \u001b[0mrels\u001b[0m \u001b[1;33m=\u001b[0m \u001b[0mset\u001b[0m\u001b[1;33m(\u001b[0m\u001b[1;33m[\u001b[0m\u001b[0mrel\u001b[0m\u001b[1;33m.\u001b[0m\u001b[0mtype\u001b[0m\u001b[1;33m(\u001b[0m\u001b[1;33m)\u001b[0m \u001b[1;32mfor\u001b[0m \u001b[0mrel\u001b[0m \u001b[1;32min\u001b[0m \u001b[0mrels\u001b[0m\u001b[1;33m]\u001b[0m\u001b[1;33m)\u001b[0m\u001b[1;33m\u001b[0m\u001b[0m\n\u001b[0m\u001b[1;32m     16\u001b[0m         \u001b[1;32mfor\u001b[0m \u001b[0mrel\u001b[0m \u001b[1;32min\u001b[0m \u001b[0mrels\u001b[0m\u001b[1;33m:\u001b[0m\u001b[1;33m\u001b[0m\u001b[0m\n\u001b[1;32m     17\u001b[0m             \u001b[1;32mif\u001b[0m \u001b[1;32mnot\u001b[0m \u001b[0mrel\u001b[0m \u001b[1;32min\u001b[0m \u001b[0mfreq\u001b[0m\u001b[1;33m.\u001b[0m\u001b[0mkeys\u001b[0m\u001b[1;33m(\u001b[0m\u001b[1;33m)\u001b[0m\u001b[1;33m:\u001b[0m\u001b[1;33m\u001b[0m\u001b[0m\n",
      "\u001b[0;32mC:\\Users\\boyang\\Anaconda3\\lib\\site-packages\\py2neo\\database\\__init__.py\u001b[0m in \u001b[0;36mmatch\u001b[0;34m(self, start_node, rel_type, end_node, bidirectional, limit)\u001b[0m\n\u001b[1;32m    575\u001b[0m         \u001b[1;32melif\u001b[0m \u001b[0mend_node\u001b[0m \u001b[1;32mis\u001b[0m \u001b[1;32mNone\u001b[0m\u001b[1;33m:\u001b[0m\u001b[1;33m\u001b[0m\u001b[0m\n\u001b[1;32m    576\u001b[0m             \u001b[0mclauses\u001b[0m\u001b[1;33m.\u001b[0m\u001b[0mappend\u001b[0m\u001b[1;33m(\u001b[0m\u001b[1;34m\"MATCH (a) WHERE id(a) = {1}\"\u001b[0m\u001b[1;33m)\u001b[0m\u001b[1;33m\u001b[0m\u001b[0m\n\u001b[0;32m--> 577\u001b[0;31m             \u001b[0mstart_node\u001b[0m \u001b[1;33m=\u001b[0m \u001b[0mcast_node\u001b[0m\u001b[1;33m(\u001b[0m\u001b[0mstart_node\u001b[0m\u001b[1;33m)\u001b[0m\u001b[1;33m\u001b[0m\u001b[0m\n\u001b[0m\u001b[1;32m    578\u001b[0m             \u001b[1;32mif\u001b[0m \u001b[1;32mnot\u001b[0m \u001b[0mremote\u001b[0m\u001b[1;33m(\u001b[0m\u001b[0mstart_node\u001b[0m\u001b[1;33m)\u001b[0m\u001b[1;33m:\u001b[0m\u001b[1;33m\u001b[0m\u001b[0m\n\u001b[1;32m    579\u001b[0m                 \u001b[1;32mraise\u001b[0m \u001b[0mTypeError\u001b[0m\u001b[1;33m(\u001b[0m\u001b[1;34m\"Nodes for relationship match end points must be bound\"\u001b[0m\u001b[1;33m)\u001b[0m\u001b[1;33m\u001b[0m\u001b[0m\n",
      "\u001b[0;32mC:\\Users\\boyang\\Anaconda3\\lib\\site-packages\\py2neo\\types.py\u001b[0m in \u001b[0;36mcast_node\u001b[0;34m(obj)\u001b[0m\n\u001b[1;32m    162\u001b[0m \u001b[1;33m\u001b[0m\u001b[0m\n\u001b[1;32m    163\u001b[0m     \u001b[0minst\u001b[0m \u001b[1;33m=\u001b[0m \u001b[0mNode\u001b[0m\u001b[1;33m(\u001b[0m\u001b[1;33m)\u001b[0m\u001b[1;33m\u001b[0m\u001b[0m\n\u001b[0;32m--> 164\u001b[0;31m     \u001b[0mapply\u001b[0m\u001b[1;33m(\u001b[0m\u001b[0mobj\u001b[0m\u001b[1;33m)\u001b[0m\u001b[1;33m\u001b[0m\u001b[0m\n\u001b[0m\u001b[1;32m    165\u001b[0m     \u001b[1;32mreturn\u001b[0m \u001b[0minst\u001b[0m\u001b[1;33m\u001b[0m\u001b[0m\n\u001b[1;32m    166\u001b[0m \u001b[1;33m\u001b[0m\u001b[0m\n",
      "\u001b[0;32mC:\\Users\\boyang\\Anaconda3\\lib\\site-packages\\py2neo\\types.py\u001b[0m in \u001b[0;36mapply\u001b[0;34m(x)\u001b[0m\n\u001b[1;32m    152\u001b[0m     \u001b[1;32mdef\u001b[0m \u001b[0mapply\u001b[0m\u001b[1;33m(\u001b[0m\u001b[0mx\u001b[0m\u001b[1;33m)\u001b[0m\u001b[1;33m:\u001b[0m\u001b[1;33m\u001b[0m\u001b[0m\n\u001b[1;32m    153\u001b[0m         \u001b[1;32mif\u001b[0m \u001b[0misinstance\u001b[0m\u001b[1;33m(\u001b[0m\u001b[0mx\u001b[0m\u001b[1;33m,\u001b[0m \u001b[0mdict\u001b[0m\u001b[1;33m)\u001b[0m\u001b[1;33m:\u001b[0m\u001b[1;33m\u001b[0m\u001b[0m\n\u001b[0;32m--> 154\u001b[0;31m             \u001b[0minst\u001b[0m\u001b[1;33m.\u001b[0m\u001b[0mupdate\u001b[0m\u001b[1;33m(\u001b[0m\u001b[0mx\u001b[0m\u001b[1;33m)\u001b[0m\u001b[1;33m\u001b[0m\u001b[0m\n\u001b[0m\u001b[1;32m    155\u001b[0m         \u001b[1;32melif\u001b[0m \u001b[0mis_collection\u001b[0m\u001b[1;33m(\u001b[0m\u001b[0mx\u001b[0m\u001b[1;33m)\u001b[0m\u001b[1;33m:\u001b[0m\u001b[1;33m\u001b[0m\u001b[0m\n\u001b[1;32m    156\u001b[0m             \u001b[1;32mfor\u001b[0m \u001b[0mitem\u001b[0m \u001b[1;32min\u001b[0m \u001b[0mx\u001b[0m\u001b[1;33m:\u001b[0m\u001b[1;33m\u001b[0m\u001b[0m\n",
      "\u001b[0;32mC:\\Users\\boyang\\Anaconda3\\lib\\site-packages\\py2neo\\types.py\u001b[0m in \u001b[0;36mupdate\u001b[0;34m(self, iterable, **kwargs)\u001b[0m\n\u001b[1;32m    681\u001b[0m     \u001b[1;32mdef\u001b[0m \u001b[0mupdate\u001b[0m\u001b[1;33m(\u001b[0m\u001b[0mself\u001b[0m\u001b[1;33m,\u001b[0m \u001b[0miterable\u001b[0m\u001b[1;33m=\u001b[0m\u001b[1;32mNone\u001b[0m\u001b[1;33m,\u001b[0m \u001b[1;33m**\u001b[0m\u001b[0mkwargs\u001b[0m\u001b[1;33m)\u001b[0m\u001b[1;33m:\u001b[0m\u001b[1;33m\u001b[0m\u001b[0m\n\u001b[1;32m    682\u001b[0m         \u001b[1;32mfor\u001b[0m \u001b[0mkey\u001b[0m\u001b[1;33m,\u001b[0m \u001b[0mvalue\u001b[0m \u001b[1;32min\u001b[0m \u001b[0mdict\u001b[0m\u001b[1;33m(\u001b[0m\u001b[0miterable\u001b[0m \u001b[1;32mor\u001b[0m \u001b[1;33m{\u001b[0m\u001b[1;33m}\u001b[0m\u001b[1;33m,\u001b[0m \u001b[1;33m**\u001b[0m\u001b[0mkwargs\u001b[0m\u001b[1;33m)\u001b[0m\u001b[1;33m.\u001b[0m\u001b[0mitems\u001b[0m\u001b[1;33m(\u001b[0m\u001b[1;33m)\u001b[0m\u001b[1;33m:\u001b[0m\u001b[1;33m\u001b[0m\u001b[0m\n\u001b[0;32m--> 683\u001b[0;31m             \u001b[0mself\u001b[0m\u001b[1;33m[\u001b[0m\u001b[0mkey\u001b[0m\u001b[1;33m]\u001b[0m \u001b[1;33m=\u001b[0m \u001b[0mvalue\u001b[0m\u001b[1;33m\u001b[0m\u001b[0m\n\u001b[0m\u001b[1;32m    684\u001b[0m \u001b[1;33m\u001b[0m\u001b[0m\n\u001b[1;32m    685\u001b[0m \u001b[1;33m\u001b[0m\u001b[0m\n",
      "\u001b[0;32mC:\\Users\\boyang\\Anaconda3\\lib\\site-packages\\py2neo\\types.py\u001b[0m in \u001b[0;36m__setitem__\u001b[0;34m(self, key, value)\u001b[0m\n\u001b[1;32m    668\u001b[0m                 \u001b[1;32mpass\u001b[0m\u001b[1;33m\u001b[0m\u001b[0m\n\u001b[1;32m    669\u001b[0m         \u001b[1;32melse\u001b[0m\u001b[1;33m:\u001b[0m\u001b[1;33m\u001b[0m\u001b[0m\n\u001b[0;32m--> 670\u001b[0;31m             \u001b[0mdict\u001b[0m\u001b[1;33m.\u001b[0m\u001b[0m__setitem__\u001b[0m\u001b[1;33m(\u001b[0m\u001b[0mself\u001b[0m\u001b[1;33m,\u001b[0m \u001b[0mkey\u001b[0m\u001b[1;33m,\u001b[0m \u001b[0mcoerce_property\u001b[0m\u001b[1;33m(\u001b[0m\u001b[0mvalue\u001b[0m\u001b[1;33m)\u001b[0m\u001b[1;33m)\u001b[0m\u001b[1;33m\u001b[0m\u001b[0m\n\u001b[0m\u001b[1;32m    671\u001b[0m \u001b[1;33m\u001b[0m\u001b[0m\n\u001b[1;32m    672\u001b[0m     \u001b[1;32mdef\u001b[0m \u001b[0msetdefault\u001b[0m\u001b[1;33m(\u001b[0m\u001b[0mself\u001b[0m\u001b[1;33m,\u001b[0m \u001b[0mkey\u001b[0m\u001b[1;33m,\u001b[0m \u001b[0mdefault\u001b[0m\u001b[1;33m=\u001b[0m\u001b[1;32mNone\u001b[0m\u001b[1;33m)\u001b[0m\u001b[1;33m:\u001b[0m\u001b[1;33m\u001b[0m\u001b[0m\n",
      "\u001b[0;32mC:\\Users\\boyang\\Anaconda3\\lib\\site-packages\\py2neo\\types.py\u001b[0m in \u001b[0;36mcoerce_property\u001b[0;34m(x)\u001b[0m\n\u001b[1;32m     66\u001b[0m         \u001b[1;32mreturn\u001b[0m \u001b[0mx\u001b[0m\u001b[1;33m.\u001b[0m\u001b[0m__class__\u001b[0m\u001b[1;33m(\u001b[0m\u001b[0mcollection\u001b[0m\u001b[1;33m)\u001b[0m\u001b[1;33m\u001b[0m\u001b[0m\n\u001b[1;32m     67\u001b[0m     \u001b[1;32melse\u001b[0m\u001b[1;33m:\u001b[0m\u001b[1;33m\u001b[0m\u001b[0m\n\u001b[0;32m---> 68\u001b[0;31m         \u001b[1;32mreturn\u001b[0m \u001b[0mcoerce_atomic_property\u001b[0m\u001b[1;33m(\u001b[0m\u001b[0mx\u001b[0m\u001b[1;33m)\u001b[0m\u001b[1;33m\u001b[0m\u001b[0m\n\u001b[0m\u001b[1;32m     69\u001b[0m \u001b[1;33m\u001b[0m\u001b[0m\n\u001b[1;32m     70\u001b[0m \u001b[1;33m\u001b[0m\u001b[0m\n",
      "\u001b[0;32mC:\\Users\\boyang\\Anaconda3\\lib\\site-packages\\py2neo\\types.py\u001b[0m in \u001b[0;36mcoerce_atomic_property\u001b[0;34m(x)\u001b[0m\n\u001b[1;32m     48\u001b[0m         \u001b[1;32mreturn\u001b[0m \u001b[0mx\u001b[0m\u001b[1;33m\u001b[0m\u001b[0m\n\u001b[1;32m     49\u001b[0m     \u001b[1;32melse\u001b[0m\u001b[1;33m:\u001b[0m\u001b[1;33m\u001b[0m\u001b[0m\n\u001b[0;32m---> 50\u001b[0;31m         \u001b[1;32mraise\u001b[0m \u001b[0mTypeError\u001b[0m\u001b[1;33m(\u001b[0m\u001b[1;34m\"Properties of type %s are not supported\"\u001b[0m \u001b[1;33m%\u001b[0m \u001b[0mx\u001b[0m\u001b[1;33m.\u001b[0m\u001b[0m__class__\u001b[0m\u001b[1;33m.\u001b[0m\u001b[0m__name__\u001b[0m\u001b[1;33m)\u001b[0m\u001b[1;33m\u001b[0m\u001b[0m\n\u001b[0m\u001b[1;32m     51\u001b[0m \u001b[1;33m\u001b[0m\u001b[0m\n\u001b[1;32m     52\u001b[0m \u001b[1;33m\u001b[0m\u001b[0m\n",
      "\u001b[0;31mTypeError\u001b[0m: Properties of type Node are not supported"
     ]
    }
   ],
   "source": [
    "get_rel_attr_freq()"
   ]
  },
  {
   "cell_type": "code",
   "execution_count": 6,
   "metadata": {
    "collapsed": false
   },
   "outputs": [],
   "source": [
    "results = graph.data('MATCH p = (h{`uid`:\"刘德华/114923\"})-[r*1..2]-(t{`uid`:\"朱丽倩\"}) RETURN p')"
   ]
  },
  {
   "cell_type": "code",
   "execution_count": 7,
   "metadata": {
    "collapsed": false
   },
   "outputs": [
    {
     "data": {
      "text/plain": [
       "[{'p': (eb1afec)-[:`妻子`]->(fc3eaf9)},\n",
       " {'p': (eb1afec)-[:`女儿`]->(c025302)-[:`母亲`]->(fc3eaf9)},\n",
       " {'p': (eb1afec)<-[:`父亲`]-(c025302)-[:`母亲`]->(fc3eaf9)},\n",
       " {'p': (eb1afec)<-[:`父亲`]-(fe191ff)-[:`母亲`]->(fc3eaf9)}]"
      ]
     },
     "execution_count": 7,
     "metadata": {},
     "output_type": "execute_result"
    }
   ],
   "source": [
    "results"
   ]
  },
  {
   "cell_type": "code",
   "execution_count": 34,
   "metadata": {
    "collapsed": true
   },
   "outputs": [],
   "source": [
    "node = graph.data('MATCH (n{name:\"湖南汨罗\"}) RETURN n')"
   ]
  },
  {
   "cell_type": "code",
   "execution_count": 35,
   "metadata": {
    "collapsed": false
   },
   "outputs": [],
   "source": [
    "x = node[0]['n']"
   ]
  },
  {
   "cell_type": "code",
   "execution_count": 36,
   "metadata": {
    "collapsed": false
   },
   "outputs": [
    {
     "data": {
      "text/plain": [
       "(b3e6ada {from:\"text\",name:\"湖南汨罗\",title:\"\",uid:\"text11829/湖南汨罗\"})"
      ]
     },
     "execution_count": 36,
     "metadata": {},
     "output_type": "execute_result"
    }
   ],
   "source": [
    "x"
   ]
  },
  {
   "cell_type": "code",
   "execution_count": 37,
   "metadata": {
    "collapsed": false
   },
   "outputs": [],
   "source": [
    "rels = graph.match(x)"
   ]
  },
  {
   "cell_type": "code",
   "execution_count": 38,
   "metadata": {
    "collapsed": false
   },
   "outputs": [
    {
     "data": {
      "text/plain": [
       "set()"
      ]
     },
     "execution_count": 38,
     "metadata": {},
     "output_type": "execute_result"
    }
   ],
   "source": [
    "set([rel.type() for rel in rels])"
   ]
  },
  {
   "cell_type": "code",
   "execution_count": 5,
   "metadata": {
    "collapsed": false
   },
   "outputs": [
    {
     "name": "stdout",
     "output_type": "stream",
     "text": [
      "((eb1afec {from:\"hyper_link\",name:\"刘德华\",title:\"中国香港男演员、歌手、词作人\",uid:\"刘德华/114923\",`中文名`:\"刘德华、刘德华\",`体重`:\"63kg、63kg\",`全球粉丝会`:\"华仔天地、华仔天地\",`出生日期`:\"1961年9月27日、1961年9月27日\",`别名`:\"华仔、华Dee、华哥、华仔、华Dee、华哥\",`外文名`:\"Andy Lau、Lau Tak Wah、Andy Lau、Lau Tak Wah\",`血型`:\"AB型、AB型\",`身高`:\"174cm、174cm\"}), (fc3eaf9 {from:\"hyper_link\",name:\"朱丽倩\",title:\"\",uid:\"朱丽倩\",`中文名`:\"朱丽倩\",`体重`:\"45kg\",`出生日期`:\"1966年4月6日\",`别名`:\"朱丽卿\",`外文名`:\"carol\",`祖籍`:\"福建诏安\",`血型`:\"A型\",`身高`:\"165cm\"}))\n",
      "((eb1afec {from:\"hyper_link\",name:\"刘德华\",title:\"中国香港男演员、歌手、词作人\",uid:\"刘德华/114923\",`中文名`:\"刘德华、刘德华\",`体重`:\"63kg、63kg\",`全球粉丝会`:\"华仔天地、华仔天地\",`出生日期`:\"1961年9月27日、1961年9月27日\",`别名`:\"华仔、华Dee、华哥、华仔、华Dee、华哥\",`外文名`:\"Andy Lau、Lau Tak Wah、Andy Lau、Lau Tak Wah\",`血型`:\"AB型、AB型\",`身高`:\"174cm、174cm\"}), (c025302 {from:\"hyper_link\",name:\"刘向蕙\",title:\"\",uid:\"刘向蕙\",`中文名`:\"刘向蕙\",`出生体重`:\"3.178公斤\",`出生日期`:\"2012年5月9日\",`别名`:\"小龙女、Hanna\",`性别`:\"女\"}), (fc3eaf9 {from:\"hyper_link\",name:\"朱丽倩\",title:\"\",uid:\"朱丽倩\",`中文名`:\"朱丽倩\",`体重`:\"45kg\",`出生日期`:\"1966年4月6日\",`别名`:\"朱丽卿\",`外文名`:\"carol\",`祖籍`:\"福建诏安\",`血型`:\"A型\",`身高`:\"165cm\"}))\n",
      "((eb1afec {from:\"hyper_link\",name:\"刘德华\",title:\"中国香港男演员、歌手、词作人\",uid:\"刘德华/114923\",`中文名`:\"刘德华、刘德华\",`体重`:\"63kg、63kg\",`全球粉丝会`:\"华仔天地、华仔天地\",`出生日期`:\"1961年9月27日、1961年9月27日\",`别名`:\"华仔、华Dee、华哥、华仔、华Dee、华哥\",`外文名`:\"Andy Lau、Lau Tak Wah、Andy Lau、Lau Tak Wah\",`血型`:\"AB型、AB型\",`身高`:\"174cm、174cm\"}), (c025302 {from:\"hyper_link\",name:\"刘向蕙\",title:\"\",uid:\"刘向蕙\",`中文名`:\"刘向蕙\",`出生体重`:\"3.178公斤\",`出生日期`:\"2012年5月9日\",`别名`:\"小龙女、Hanna\",`性别`:\"女\"}), (fc3eaf9 {from:\"hyper_link\",name:\"朱丽倩\",title:\"\",uid:\"朱丽倩\",`中文名`:\"朱丽倩\",`体重`:\"45kg\",`出生日期`:\"1966年4月6日\",`别名`:\"朱丽卿\",`外文名`:\"carol\",`祖籍`:\"福建诏安\",`血型`:\"A型\",`身高`:\"165cm\"}))\n",
      "((eb1afec {from:\"hyper_link\",name:\"刘德华\",title:\"中国香港男演员、歌手、词作人\",uid:\"刘德华/114923\",`中文名`:\"刘德华、刘德华\",`体重`:\"63kg、63kg\",`全球粉丝会`:\"华仔天地、华仔天地\",`出生日期`:\"1961年9月27日、1961年9月27日\",`别名`:\"华仔、华Dee、华哥、华仔、华Dee、华哥\",`外文名`:\"Andy Lau、Lau Tak Wah、Andy Lau、Lau Tak Wah\",`血型`:\"AB型、AB型\",`身高`:\"174cm、174cm\"}), (fe191ff {from:\"hyper_link\",name:\"刘向蕙\",title:\"\",uid:\"刘向蕙/5893508\",`中文名`:\"刘向蕙\",`出生体重`:\"3.178公斤\",`出生日期`:\"2012年5月9日\",`别名`:\"小龙女、Hanna\",`性别`:\"女\"}), (fc3eaf9 {from:\"hyper_link\",name:\"朱丽倩\",title:\"\",uid:\"朱丽倩\",`中文名`:\"朱丽倩\",`体重`:\"45kg\",`出生日期`:\"1966年4月6日\",`别名`:\"朱丽卿\",`外文名`:\"carol\",`祖籍`:\"福建诏安\",`血型`:\"A型\",`身高`:\"165cm\"}))\n"
     ]
    }
   ],
   "source": [
    "for p in results:\n",
    "    print(p['p'].nodes())"
   ]
  },
  {
   "cell_type": "code",
   "execution_count": 9,
   "metadata": {
    "collapsed": true
   },
   "outputs": [],
   "source": [
    "results = graph.data('MATCH (n{name:\"歌手\"}) RETURN n')"
   ]
  },
  {
   "cell_type": "code",
   "execution_count": 10,
   "metadata": {
    "collapsed": false
   },
   "outputs": [
    {
     "data": {
      "text/plain": [
       "[{'n': (ff3ded6 {from:\"text\",name:\"歌手\",title:\"\",uid:\"text45/歌手\"})},\n",
       " {'n': (bff6be2 {from:\"hyper_link\",name:\"歌手\",title:\"湖南卫视音乐竞技节目\",uid:\"歌手/20270239\",`中文名称`:\"歌手\",`冠名商`:\"金典\",`别名`:\"我是歌手第五季\",`国家/地区`:\"中国大陆\",`外文名称`:\"Singer\",`接档`:\"一年级·毕业季\",`播出时间`:\"每周六22、30\",`播出状态`:\"播出中\",`智能电视观看`:\"芒果TV版\",`期数`:\"14期\",`每集长度`:\"约85分钟\",`纪录片`:\"我们的歌手\",`被接档`:\"我想和你唱第二季\",`音乐总监`:\"梁翘柏\",`首播时间`:\"2017年1月21日\"})},\n",
       " {'n': (b354d7d {from:\"hyper_link\",name:\"歌手\",title:\"职业名称\",uid:\"歌手/16693\",`中文名`:\"歌手\",`外文名`:\"singer\"})}]"
      ]
     },
     "execution_count": 10,
     "metadata": {},
     "output_type": "execute_result"
    }
   ],
   "source": [
    "results"
   ]
  },
  {
   "cell_type": "code",
   "execution_count": 11,
   "metadata": {
    "collapsed": false
   },
   "outputs": [
    {
     "data": {
      "text/plain": [
       "set()"
      ]
     },
     "execution_count": 11,
     "metadata": {},
     "output_type": "execute_result"
    }
   ],
   "source": [
    "set(results[0]['n'].keys()) - set({'uid', 'title', 'name', 'from'})"
   ]
  },
  {
   "cell_type": "code",
   "execution_count": 13,
   "metadata": {
    "collapsed": false
   },
   "outputs": [],
   "source": [
    "x = graph.match(results[0]['n'])"
   ]
  },
  {
   "cell_type": "code",
   "execution_count": 14,
   "metadata": {
    "collapsed": false
   },
   "outputs": [
    {
     "name": "stdout",
     "output_type": "stream",
     "text": [
      "(aee58f3 {from:\"hyper_link\",name:\"刘德华\",title:\"中国香港男演员、歌手、词作人\",uid:\"刘德华/114923\",`中文名`:\"刘德华\",`体重`:\"63kg\",`全球粉丝会`:\"华仔天地\",`出生日期`:\"1961年9月27日\",`别名`:\"华哥\",`外文名`:\"Lau Tak Wah\",`血型`:\"AB型\",`身高`:\"174cm\"})\n",
      "(e630106 {from:\"hyper_link\",name:\"中\",title:\"中国\",uid:\"中国\"})\n"
     ]
    }
   ],
   "source": [
    "for e in x:\n",
    "    if e.type() == '国籍':\n",
    "        print(e.start_node())\n",
    "        print(e.end_node())"
   ]
  },
  {
   "cell_type": "code",
   "execution_count": 15,
   "metadata": {
    "collapsed": true
   },
   "outputs": [],
   "source": [
    "results = graph.data('MATCH (n{uid:\"\"}) RETURN n')"
   ]
  },
  {
   "cell_type": "code",
   "execution_count": 16,
   "metadata": {
    "collapsed": false
   },
   "outputs": [
    {
     "data": {
      "text/plain": [
       "-1"
      ]
     },
     "execution_count": 16,
     "metadata": {},
     "output_type": "execute_result"
    }
   ],
   "source": [
    "\"中国\".find('/')"
   ]
  },
  {
   "cell_type": "code",
   "execution_count": null,
   "metadata": {
    "collapsed": true
   },
   "outputs": [],
   "source": []
  }
 ],
 "metadata": {
  "anaconda-cloud": {},
  "kernelspec": {
   "display_name": "Python [conda root]",
   "language": "python",
   "name": "conda-root-py"
  },
  "language_info": {
   "codemirror_mode": {
    "name": "ipython",
    "version": 3
   },
   "file_extension": ".py",
   "mimetype": "text/x-python",
   "name": "python",
   "nbconvert_exporter": "python",
   "pygments_lexer": "ipython3",
   "version": "3.5.2"
  },
  "widgets": {
   "state": {
    "b44fc0efb59c49afbb6c812728feb305": {
     "views": [
      {
       "cell_index": 4
      }
     ]
    }
   },
   "version": "1.2.0"
  }
 },
 "nbformat": 4,
 "nbformat_minor": 1
}
